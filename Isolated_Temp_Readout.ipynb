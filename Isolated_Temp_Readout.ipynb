{
 "cells": [
  {
   "cell_type": "code",
   "execution_count": 1,
   "metadata": {},
   "outputs": [],
   "source": [
    "import pyvisa\n",
    "import numpy as np\n",
    "import random\n",
    "import matplotlib.pyplot as plt\n",
    "import matplotlib.animation as animation\n",
    "from datetime import datetime as dt\n",
    "from matplotlib.animation import FuncAnimation\n",
    "import time\n",
    "%matplotlib notebook"
   ]
  },
  {
   "cell_type": "code",
   "execution_count": 10,
   "metadata": {},
   "outputs": [
    {
     "name": "stdout",
     "output_type": "stream",
     "text": [
      "('ASRL7::INSTR',)\n"
     ]
    }
   ],
   "source": [
    "rm = pyvisa.ResourceManager()\n",
    "print(rm.list_resources())\n",
    "%matplotlib notebook"
   ]
  },
  {
   "cell_type": "code",
   "execution_count": 11,
   "metadata": {},
   "outputs": [
    {
     "name": "stdout",
     "output_type": "stream",
     "text": [
      "ASRL7::INSTR\n"
     ]
    }
   ],
   "source": [
    "#Let a equal the index (position minus 1) of the power supply from rm.list_resources\n",
    "a = 1\n",
    "#This opens the channel without having to rewrite anything printed in the above code\n",
    "name = ((str(rm.list_resources()).split(\",\")[(a - 1)]).replace('(', '')).replace(\"'\", '')\n",
    "print(name)\n",
    "Temp = rm.open_resource(name)"
   ]
  },
  {
   "cell_type": "code",
   "execution_count": 12,
   "metadata": {},
   "outputs": [
    {
     "name": "stdout",
     "output_type": "stream",
     "text": [
      "1, 27.000, 25.25\r\n",
      "\n",
      "2, 27.687, 25.50\r\n",
      "\n",
      "3, 27.875, 24.75\r\n",
      "\n",
      "4, 27.250, 24.00\r\n",
      "\n"
     ]
    }
   ],
   "source": [
    "print(Temp.query(\"1\"))\n",
    "print(Temp.query(\"2\"))\n",
    "print(Temp.query(\"3\"))\n",
    "print(Temp.query(\"4\"))"
   ]
  },
  {
   "cell_type": "code",
   "execution_count": 13,
   "metadata": {},
   "outputs": [],
   "source": [
    "Temp.close()"
   ]
  },
  {
   "cell_type": "code",
   "execution_count": null,
   "metadata": {},
   "outputs": [],
   "source": []
  }
 ],
 "metadata": {
  "kernelspec": {
   "display_name": "Python 3",
   "language": "python",
   "name": "python3"
  },
  "language_info": {
   "codemirror_mode": {
    "name": "ipython",
    "version": 3
   },
   "file_extension": ".py",
   "mimetype": "text/x-python",
   "name": "python",
   "nbconvert_exporter": "python",
   "pygments_lexer": "ipython3",
   "version": "3.7.3"
  }
 },
 "nbformat": 4,
 "nbformat_minor": 2
}
